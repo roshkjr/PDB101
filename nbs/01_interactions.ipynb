{
 "cells": [
  {
   "cell_type": "markdown",
   "metadata": {},
   "source": [
    "# interactions\n",
    "\n",
    "> This module contains functions to analyze interactions between ligands and proteins in PDB."
   ]
  },
  {
   "cell_type": "markdown",
   "metadata": {},
   "source": [
    "**Note**\n",
    "Install [chimerax](https://www.rbvi.ucsf.edu/chimerax/docs/user/index.html) before running"
   ]
  },
  {
   "cell_type": "markdown",
   "metadata": {},
   "source": [
    "## Add hydrogen using ChimeraX"
   ]
  },
  {
   "cell_type": "code",
   "execution_count": null,
   "metadata": {},
   "outputs": [],
   "source": [
    "import os\n",
    "import logging\n",
    "import subprocess\n"
   ]
  },
  {
   "cell_type": "code",
   "execution_count": null,
   "metadata": {},
   "outputs": [],
   "source": [
    "def protonate_structure(structure: str, out_dir:str) -> tuple[bool, str]:\n",
    "        \"\"\"Uses ChimeraX to add hydrogens to the input structure.\n",
    "        The command being used is `addh hbond true`.\n",
    "\n",
    "        Args:\n",
    "            structure: Path to the input structure\n",
    "            out_dir: Directory where the protonated structure will be saved\n",
    "\n",
    "        Returns:\n",
    "            A tuple (success, protonated), where success indicates whether the protonation\n",
    "            was succcessful or not , and protonated is the path to protonated structure\n",
    "        \"\"\"\n",
    "        logging.info(\"Protonation started.\")\n",
    "\n",
    "        chimerax_success = False\n",
    "        protonated_cif = os.path.join(\n",
    "            out_dir, f'{os.path.basename(structure).split(\".\")[0]}_h.cif'\n",
    "        )\n",
    "\n",
    "        cmd_file = os.path.join(out_dir, \"chimera_config.cxc\")\n",
    "        structure = os.path.realpath(structure)\n",
    "        protonated_cif = os.path.realpath(protonated_cif)\n",
    "\n",
    "        with open(cmd_file, \"w\") as f:\n",
    "            f.write(\n",
    "                f\"\"\"\n",
    "                open {structure}\n",
    "                addh hbond true\n",
    "                save {protonated_cif} format mmcif\n",
    "                exit\n",
    "                \"\"\"\n",
    "            )\n",
    "        try:\n",
    "            subprocess.call(\n",
    "                [\"chimerax\", \"--nogui\", \"--cmd\", f\"open {cmd_file}\", \"--silent\"]\n",
    "            )\n",
    "            logging.info(\"Protonation finished.\")\n",
    "        except Exception:\n",
    "            return (chimerax_success, protonated_cif)\n",
    "\n",
    "        if not os.path.isfile(protonated_cif):\n",
    "            return (chimerax_success, protonated_cif)\n",
    "\n",
    "        return (chimerax_success, protonated_cif)\n"
   ]
  }
 ],
 "metadata": {
  "kernelspec": {
   "display_name": "python3",
   "language": "python",
   "name": "python3"
  }
 },
 "nbformat": 4,
 "nbformat_minor": 4
}
